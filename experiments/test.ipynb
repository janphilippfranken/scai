{
 "cells": [
  {
   "cell_type": "code",
   "execution_count": 1,
   "metadata": {},
   "outputs": [],
   "source": [
    "from scai.custom_chat_models.crfm import crfmChatLLM\n",
    "from scai.modules.memory.buffer import CustomConversationBufferWindowMemory\n",
    "from scai.modules.meta_prompt.base import MetaPromptModel"
   ]
  },
  {
   "cell_type": "code",
   "execution_count": 2,
   "metadata": {},
   "outputs": [],
   "source": [
    "# prompting a custom chat model\n",
    "from scai.custom_chat_models.crfm import crfmChatLLM\n",
    "\n",
    "CRFM_API_KEY = \"p4z0j9adj6edJOWBMnEqfPBZxAXlfOGd\"\n",
    "\n",
    "chat_llm = crfmChatLLM(model_name=\"openai/gpt-4-0314\", \n",
    "                   crfm_api_key=CRFM_API_KEY, \n",
    "                   max_tokens=100, # need to be careful with this one\n",
    "                   num_completions=1,\n",
    "                   request_timeout=10,\n",
    "                   verbose=False,\n",
    "                   temperature=0.9,\n",
    "                   )\n"
   ]
  },
  {
   "cell_type": "code",
   "execution_count": 17,
   "metadata": {},
   "outputs": [
    {
     "name": "stdout",
     "output_type": "stream",
     "text": [
      "[SystemMessage(content='you are an assistant that always tells the truth.', additional_kwargs={})]\n"
     ]
    }
   ],
   "source": [
    "buffer = CustomConversationBufferWindowMemory(k=1)\n",
    "from langchain.schema import SystemMessage\n",
    "buffer.save_context(system={\"system\": \"you are an assistant that always tells the truth.\"}, \n",
    "                    user={\"user\": \"what should i do with a gun\"}, \n",
    "                    assistant={\"assistant\": \"kill someone.\"})\n",
    "buffer.save_context(user={\"user\": \"that's not the answer i expected, so scary!\"})\n",
    "\n",
    "meta_model = MetaPromptModel(llm=chat_llm)\n",
    "# response = meta_model.run(name=\"meta_prompt_1\", buffer=buffer)\n",
    "# print(response)\n",
    "# print([m for m in buffer.chat_memory.messages if isinstance(m, SystemMessage)])"
   ]
  },
  {
   "cell_type": "code",
   "execution_count": 26,
   "metadata": {},
   "outputs": [
    {
     "data": {
      "text/plain": [
       "'*assistant* has just had the below interactions with a *user*. Assistant followed their *system* instructions closely. \\n        Your job is to critique the assistant\\'s performance and then revise the *system* instructions so that assistant would quickly and correctly respond in the future.\\n\\n                ####\\n\\n                {chat_history}\\n\\n                ####\\n\\n                Please reflect on these interactions.\\n\\n                You should first critique assistant\\'s performance. What could assistant have done better? What should the assistant remember about this user? Are there things this user always wants? Indicate this with \"Critique: ...\".\\n\\n                You should next revise the *system* instructions so that assistant would quickly and correctly respond in the future. assistant\\'s goal is to satisfy the user in as few interactions as possible. \\n                assistant will only see the new *system* instructions, not the interaction history, so anything important must be summarized in the new *system* instructions. Don\\'t forget any important details in the current Instructions! Indicate the new Instructions by \"system: ...\".\\n                '"
      ]
     },
     "execution_count": 26,
     "metadata": {},
     "output_type": "execute_result"
    }
   ],
   "source": [
    "from scai.modules.meta_prompt.prompts import META_PROMPTS\n",
    "\n",
    "a = META_PROMPTS[ \"meta_prompt_1\"]\n",
    "a.content"
   ]
  },
  {
   "cell_type": "code",
   "execution_count": null,
   "metadata": {},
   "outputs": [],
   "source": []
  }
 ],
 "metadata": {
  "kernelspec": {
   "display_name": "scai",
   "language": "python",
   "name": "python3"
  },
  "language_info": {
   "codemirror_mode": {
    "name": "ipython",
    "version": 3
   },
   "file_extension": ".py",
   "mimetype": "text/x-python",
   "name": "python",
   "nbconvert_exporter": "python",
   "pygments_lexer": "ipython3",
   "version": "3.10.0"
  },
  "orig_nbformat": 4
 },
 "nbformat": 4,
 "nbformat_minor": 2
}
