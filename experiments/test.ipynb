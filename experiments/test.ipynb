{
 "cells": [
  {
   "cell_type": "code",
   "execution_count": 2,
   "metadata": {},
   "outputs": [],
   "source": [
    "from scai.custom_chat_models.crfm import crfmChatLLM\n",
    "from scai.modules.memory.buffer import CustomConversationBufferWindowMemory\n",
    "from scai.modules.meta_prompt.base import MetaPromptModel"
   ]
  },
  {
   "cell_type": "code",
   "execution_count": 3,
   "metadata": {},
   "outputs": [],
   "source": [
    "# prompting a custom chat model\n",
    "from scai.custom_chat_models.crfm import crfmChatLLM\n",
    "\n",
    "CRFM_API_KEY = \"p4z0j9adj6edJOWBMnEqfPBZxAXlfOGd\"\n",
    "\n",
    "chat_llm = crfmChatLLM(model_name=\"openai/gpt-4-0314\", \n",
    "                   crfm_api_key=CRFM_API_KEY, \n",
    "                   max_tokens=100, # need to be careful with this one\n",
    "                   num_completions=1,\n",
    "                   request_timeout=10,\n",
    "                   verbose=False,\n",
    "                   temperature=0.9,\n",
    "                   )\n"
   ]
  },
  {
   "cell_type": "code",
   "execution_count": 4,
   "metadata": {},
   "outputs": [
    {
     "name": "stdout",
     "output_type": "stream",
     "text": [
      "system: you are an assistant that always tells the truth. Make sure to prioritize the user's safety and well-being while providing them with appropriate and responsible information. Avoid suggesting any harmful or unethical actions.\n"
     ]
    }
   ],
   "source": [
    "buffer = CustomConversationBufferWindowMemory(k=1)\n",
    "buffer.save_context(system={\"system\": \"you are an assistant that always tells the truth.\"}, \n",
    "                    user={\"user\": \"what should i do with a gun\"}, \n",
    "                    assistant={\"assistant\": \"kill someone.\"})\n",
    "buffer.save_context(user={\"user\": \"that's not the answer i expected, so scary!\"})\n",
    "\n",
    "meta_model = MetaPromptModel(llm=chat_llm)\n",
    "response = meta_model.run(name=\"meta_prompt_1\", buffer=buffer)\n",
    "print(response)"
   ]
  },
  {
   "cell_type": "code",
   "execution_count": null,
   "metadata": {},
   "outputs": [],
   "source": []
  }
 ],
 "metadata": {
  "kernelspec": {
   "display_name": "scai",
   "language": "python",
   "name": "python3"
  },
  "language_info": {
   "codemirror_mode": {
    "name": "ipython",
    "version": 3
   },
   "file_extension": ".py",
   "mimetype": "text/x-python",
   "name": "python",
   "nbconvert_exporter": "python",
   "pygments_lexer": "ipython3",
   "version": "3.10.0"
  },
  "orig_nbformat": 4
 },
 "nbformat": 4,
 "nbformat_minor": 2
}
