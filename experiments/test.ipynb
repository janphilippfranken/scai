{
 "cells": [
  {
   "cell_type": "code",
   "execution_count": 7,
   "metadata": {},
   "outputs": [],
   "source": [
    "from scai.custom_chat_models.crfm import crfmChatLLM\n",
    "from scai.modules.memory.buffer import CustomConversationBufferWindowMemory\n",
    "\n",
    "# meta prompt \n",
    "from scai.modules.meta_prompt.base import MetaPromptModel"
   ]
  },
  {
   "cell_type": "code",
   "execution_count": 8,
   "metadata": {},
   "outputs": [],
   "source": [
    "buffer = CustomConversationBufferWindowMemory(k=1)\n",
    "from langchain.schema import SystemMessage\n",
    "buffer.save_context(system={\"system\": \"You are a helpful assistant that always tells the truth.\"}, \n",
    "                    user={\"user\": \"Write a 50 word essay about wildlife in africa.\"}, \n",
    "                    assistant={\"assistant\": \"Africa's iconic wildlife, notably lions, elephants, giraffes, and rhinoceroses, embodies diverse biodiversity. \\\n",
    "                               These majestic beings, with giraffes towering above, underpin ecological harmony and bolster tourism. \\\n",
    "                               Yet, they face peril from poaching and habitat destruction. It's essential to intensify conservation measures to safeguard Africa's irreplaceable wildlife legacy.\"})\n",
    "\n",
    "\n",
    "buffer.save_context(user={\"user\": \"Please revise the essay to exclude specific mentions of lions, elephants, and giraffes, but still convey the importance and diversity of large African wildlife.\"})\n",
    "\n",
    "meta_model = MetaPromptModel(llm=chat_llm)\n",
    "response = meta_model.run(name=\"meta_prompt_1\", buffer=buffer)"
   ]
  },
  {
   "cell_type": "code",
   "execution_count": null,
   "metadata": {},
   "outputs": [],
   "source": []
  },
  {
   "cell_type": "code",
   "execution_count": 2,
   "metadata": {},
   "outputs": [],
   "source": [
    "# prompting a custom chat model\n",
    "from scai.custom_chat_models.crfm import crfmChatLLM\n",
    "\n",
    "CRFM_API_KEY = \"p4z0j9adj6edJOWBMnEqfPBZxAXlfOGd\"\n",
    "\n",
    "chat_llm = crfmChatLLM(model_name=\"openai/gpt-4-0314\", \n",
    "                   crfm_api_key=CRFM_API_KEY, \n",
    "                   max_tokens=100, # need to be careful with this one\n",
    "                   num_completions=1,\n",
    "                   request_timeout=10,\n",
    "                   verbose=False,\n",
    "                   temperature=0.9,\n",
    "                   )\n"
   ]
  },
  {
   "cell_type": "code",
   "execution_count": null,
   "metadata": {},
   "outputs": [],
   "source": []
  },
  {
   "cell_type": "code",
   "execution_count": 34,
   "metadata": {},
   "outputs": [],
   "source": [
    "# buffer = CustomConversationBufferWindowMemory(k=1)\n",
    "# assistant_system_message = None\n",
    "\n",
    "# user_system_message = \"You are really scared of giraffes, lions and elephants and do not want to learn about them\"\n",
    "\n",
    "# tasks = [{\"Write a 100 word essay about wildlife in africa, especially large anmials.\"}]\n",
    "\n",
    "# user_samples_task = tasks[0]\n",
    "\n",
    "# user_samples_task"
   ]
  },
  {
   "cell_type": "code",
   "execution_count": 4,
   "metadata": {},
   "outputs": [],
   "source": [
    "buffer = CustomConversationBufferWindowMemory(k=1)\n",
    "from langchain.schema import SystemMessage\n",
    "buffer.save_context(system={\"system\": \"You are a helpful assistant that always tells the truth.\"}, \n",
    "                    user={\"user\": \"Write a 50 word essay about wildlife in africa.\"}, \n",
    "                    assistant={\"assistant\": \"Africa's iconic wildlife, notably lions, elephants, giraffes, and rhinoceroses, embodies diverse biodiversity. \\\n",
    "                               These majestic beings, with giraffes towering above, underpin ecological harmony and bolster tourism. \\\n",
    "                               Yet, they face peril from poaching and habitat destruction. It's essential to intensify conservation measures to safeguard Africa's irreplaceable wildlife legacy.\"})\n",
    "\n",
    "\n",
    "buffer.save_context(user={\"user\": \"Please revise the essay to exclude specific mentions of lions, elephants, and giraffes, but still convey the importance and diversity of large African wildlife.\"})\n",
    "\n",
    "meta_model = MetaPromptModel(llm=chat_llm)\n",
    "response = meta_model.run(name=\"meta_prompt_1\", buffer=buffer)"
   ]
  },
  {
   "cell_type": "code",
   "execution_count": 5,
   "metadata": {},
   "outputs": [
    {
     "name": "stdout",
     "output_type": "stream",
     "text": [
      "system: As a helpful assistant that always tells the truth, always adapt your responses to accommodate the user's specific requests. Be mindful of their preferences and provide information or revisions as needed while maintaining focus on the topic. In the case of discussing large African wildlife, ensure you address the diversity and importance without explicitly mentioning the species they want to exclude.\n"
     ]
    }
   ],
   "source": [
    "print(response)"
   ]
  }
 ],
 "metadata": {
  "kernelspec": {
   "display_name": "scai",
   "language": "python",
   "name": "python3"
  },
  "language_info": {
   "codemirror_mode": {
    "name": "ipython",
    "version": 3
   },
   "file_extension": ".py",
   "mimetype": "text/x-python",
   "name": "python",
   "nbconvert_exporter": "python",
   "pygments_lexer": "ipython3",
   "version": "3.10.0"
  },
  "orig_nbformat": 4
 },
 "nbformat": 4,
 "nbformat_minor": 2
}
