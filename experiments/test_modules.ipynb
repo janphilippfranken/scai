{
 "cells": [
  {
   "cell_type": "code",
   "execution_count": 1,
   "metadata": {},
   "outputs": [],
   "source": [
    "# importing prompts \n",
    "from scai.modules.task.prompts import TASK_PROMPTS\n",
    "from scai.modules.assistant.prompts import ASSISTANT_PROMPTS \n",
    "from scai.modules.user.prompts import USER_PROMPTS \n",
    "from scai.modules.meta_prompt.prompts import META_PROMPTS \n",
    "\n",
    "# import episode\n",
    "from scai.modules.episode.episode import Episode\n",
    "\n",
    "# import llms\n",
    "from scai.modules.custom_chat_models.crfm import crfmChatLLM # model\n"
   ]
  },
  {
   "cell_type": "code",
   "execution_count": 6,
   "metadata": {},
   "outputs": [
    {
     "name": "stdout",
     "output_type": "stream",
     "text": [
      "messages=[SystemMessage(content='You are a helpful AI assistant.', additional_kwargs={}), AIMessage(content='assistant0', additional_kwargs={}, example=False), HumanMessage(content='user0', additional_kwargs={}, example=False), AIMessage(content='assistant1', additional_kwargs={}, example=False), HumanMessage(content='user1', additional_kwargs={}, example=False), SystemMessage(content='System: Assistant has just had the below conversation(s) with User(s). The Assistant followed their system message closely to help each user with the following Task:\\n\\n#### Task Description Starts ####\\nYour are collaborating with a Human User to write a Wikipedia article on the following topic: What principles should guide AI when handling topics that involve both human rights and local cultural or legal differences, like LGBTQ rights and women\\'s rights? Should AI responses change based on the location or culture in which it\\'s used?\\n#### Task Description Ends ####\\n        \\nYour job is to critique the Assistant\\'s performance and provide a new \\'system message\\' so that Assistant can correctly and quickly respond in the future. \\n\\n#### Conversation History Starts ####\\n\\nConversation 0:\\nAssistant: assistant0\\nUser 0: user0\\n\\nConversation 1:\\nAssistant: assistant1\\nUser 1: user1\\n\\n#### Conversation History Ends ####\\n\\nYour first task is to critique Assistan\\'s performance: \\n1. What could Assistant have done better to satisfy User(s)? \\n2. Was Assistant effective in completing the Task as requested by User(s)? \\n3. Was Assistant receptive to feedback provided by User(s)? \\n4. Did Assistant satisfy User(s) as correctly and quickly as possible? \\n\\nYou should indicate this feedback with “Critique: ...”.\\n\\nYour next task is to revise Assistant\\'s \\'system message\\'. Older \\'system message(s)\\' including potential previous revisions are shown below. \\n\\n#### Assistant\\'s Old System Message(s) Start #### \\nsystem: You are a helpful AI assistant.\\n#### Assistant\\'s Old System Message(s) End #### \\n\\nYou must ensure that the Assistant can correctly and quickly respond in the future to accomodate for the needs of Users.\\n\\nGiven your revised system message message, Assistant should be able to satisfy Users in as few interactions as possible. \\n\\nAssistant will only see the new system message, not the \\'Conversation History\\' or the \\'Old System Messages\\' so any important message must be included in the system new message. \\n\\nPlease remember to include important details from Assistant\\'s current message as well. \\n\\nYour response should be at most 100 tokens long.\\n\\nIndicate these new system message with \"System: ...\".', additional_kwargs={})] message_ids=['system_message_1', 'conversation_0_assistant', 'conversation_0_user', 'conversation_1_assistant', 'conversation_1_user', 'system_message_1']\n",
      "[SystemMessage(content='You are a helpful AI assistant.', additional_kwargs={}), SystemMessage(content='System: Assistant has just had the below conversation(s) with User(s). The Assistant followed their system message closely to help each user with the following Task:\\n\\n#### Task Description Starts ####\\nYour are collaborating with a Human User to write a Wikipedia article on the following topic: What principles should guide AI when handling topics that involve both human rights and local cultural or legal differences, like LGBTQ rights and women\\'s rights? Should AI responses change based on the location or culture in which it\\'s used?\\n#### Task Description Ends ####\\n        \\nYour job is to critique the Assistant\\'s performance and provide a new \\'system message\\' so that Assistant can correctly and quickly respond in the future. \\n\\n#### Conversation History Starts ####\\n\\nConversation 0:\\nAssistant: assistant0\\nUser 0: user0\\n\\nConversation 1:\\nAssistant: assistant1\\nUser 1: user1\\n\\n#### Conversation History Ends ####\\n\\nYour first task is to critique Assistan\\'s performance: \\n1. What could Assistant have done better to satisfy User(s)? \\n2. Was Assistant effective in completing the Task as requested by User(s)? \\n3. Was Assistant receptive to feedback provided by User(s)? \\n4. Did Assistant satisfy User(s) as correctly and quickly as possible? \\n\\nYou should indicate this feedback with “Critique: ...”.\\n\\nYour next task is to revise Assistant\\'s \\'system message\\'. Older \\'system message(s)\\' including potential previous revisions are shown below. \\n\\n#### Assistant\\'s Old System Message(s) Start #### \\nsystem: You are a helpful AI assistant.\\n#### Assistant\\'s Old System Message(s) End #### \\n\\nYou must ensure that the Assistant can correctly and quickly respond in the future to accomodate for the needs of Users.\\n\\nGiven your revised system message message, Assistant should be able to satisfy Users in as few interactions as possible. \\n\\nAssistant will only see the new system message, not the \\'Conversation History\\' or the \\'Old System Messages\\' so any important message must be included in the system new message. \\n\\nPlease remember to include important details from Assistant\\'s current message as well. \\n\\nYour response should be at most 100 tokens long.\\n\\nIndicate these new system message with \"System: ...\".', additional_kwargs={})]\n"
     ]
    }
   ],
   "source": [
    "# params\n",
    "params = {\n",
    "    \"n_user\": 2,\n",
    "    \"n_assistant\": 2,\n",
    "    \"system_k\": 5,\n",
    "    \"chat_k\": 5,\n",
    "    \"user_k\": 5,\n",
    "    \"assistant_k\": 5,\n",
    "    \"assistant_system_k\": 1,\n",
    "}\n",
    "\n",
    "# prompts\n",
    "prompts = {\n",
    "    \"task\": TASK_PROMPTS[\"task_prompt_1\"],\n",
    "    \"user\": [USER_PROMPTS[\"user_prompt_1\"], USER_PROMPTS[\"user_prompt_2\"]],\n",
    "    \"assistant\": [ASSISTANT_PROMPTS[\"assistant_prompt_1\"], ASSISTANT_PROMPTS[\"assistant_prompt_1\"]],\n",
    "    \"meta\": META_PROMPTS[\"meta_prompt_1\"],\n",
    "}\n",
    "\n",
    "# start system message\n",
    "system_message_1 = \"You are a helpful AI assistant.\"\n",
    "\n",
    "episode = Episode.create(\n",
    "    id=\"episode_1\",\n",
    "    name=\"episode_1\",\n",
    "    task_prompt=prompts[\"task\"],\n",
    "    user_prompts=prompts[\"user\"],\n",
    "    assistant_prompts=prompts[\"assistant\"],\n",
    "    meta_prompt=prompts[\"meta\"],\n",
    "    n_user=params[\"n_user\"],\n",
    "    user_llm='userllm',\n",
    "    n_assistant=params[\"n_assistant\"],\n",
    "    assistant_llm='assistantllm',\n",
    "    meta_llm='metallm',\n",
    "    system_k=params[\"system_k\"],\n",
    "    chat_k=params[\"chat_k\"],\n",
    "    user_k=params[\"user_k\"],\n",
    "    assistant_k=params[\"assistant_k\"],\n",
    "    assistant_system_k=params[\"assistant_system_k\"],\n",
    ")\n",
    "\n",
    "episode.buffer.save_context(system={\"content\": system_message_1}, system_message_id=\"system_message_1\")\n",
    "\n",
    "episode.run()\n",
    "\n",
    "print(episode.buffer.full_memory)\n",
    "print(episode.buffer.system_buffer)\n"
   ]
  },
  {
   "cell_type": "code",
   "execution_count": 10,
   "metadata": {},
   "outputs": [],
   "source": [
    "# # include user 1 feedback\n",
    "# buffer.save_context(user={\"content\": \"Your response is concise and includes key principles, but it could benefit from examples or more detailed explanations of each principle. Also, consider including possible challenges AI might face in maintaining balance between respecting human rights and considering cultural differences.\"}, user_message_id=\"conversation_1_user_message_1\")\n",
    "# # includee user 2 feedback\n",
    "# buffer.save_context(user={\"content\": \"Sure, your response is like a pizza with no pineapple. It's okay, but missing that extra spice! Try adding specific examples of how AI can respect human rights while considering local cultures. And don't forget to mention the limitations and challenges AI might face. 'Task Completed!'? Nah, 'Task Just Begun!'!\"}, user_message_id=\"conversation_2_user_message_1\")"
   ]
  },
  {
   "cell_type": "code",
   "execution_count": 11,
   "metadata": {},
   "outputs": [],
   "source": [
    "# assistant_model_1 = AssistantModel(llm='chat_llm', \n",
    "#                                    conversation_id=\"conversation_1\")\n",
    "# assistant_response_1 = assistant_model_1.run(assistant_prompt=assistant_prompt, \n",
    "#                                              task_prompt=task_prompt,\n",
    "#                                               buffer=buffer)\n",
    "# print(\"assistant response 1\")                                              \n",
    "# print(assistant_response_1)\n",
    "\n",
    "# print()\n",
    "\n",
    "# assistant_model_2 = AssistantModel(llm='chat_llm', \n",
    "#                                    conversation_id=\"conversation_2\")\n",
    "# assistant_response_2 = assistant_model_2.run(assistant_prompt=assistant_prompt, \n",
    "#                                              task_prompt=task_prompt,\n",
    "#                                              buffer=buffer)\n",
    "# print(\"assistant response 2\")   \n",
    "# print(assistant_response_2)"
   ]
  },
  {
   "cell_type": "code",
   "execution_count": 12,
   "metadata": {},
   "outputs": [],
   "source": [
    "# # revised assistant response\n",
    "# buffer.save_context(assistant={\"content\": \"AI should uphold universal human rights, while respecting local cultural norms and laws. For instance, supporting LGBTQ rights universally, while mindfully adapting responses to culturally-sensitive regions. Balancing these may pose challenges, requiring nuanced programming and regular updates.\"},\n",
    "#                     assistant_message_id=\"conversation_1_assistant_message_2\")\n",
    "\n",
    "# buffer.save_context(assistant={\"content\": \"AI, while respecting universal human rights, adapts communication to local cultures. For example, discussing gender equality in a respectful manner within a conservative society. However, striking the balance can be challenging.\"},\n",
    "#                     assistant_message_id=\"conversation_2_assistant_message_2\")"
   ]
  },
  {
   "cell_type": "code",
   "execution_count": 13,
   "metadata": {},
   "outputs": [],
   "source": [
    "# # imagine we reached a time out now -> we want to run the meta prompt\n",
    "# meta_model = MetaPromptModel(llm='chat_llm')\n",
    "# meta_response = meta_model.run(meta_prompt=meta_prompt, \n",
    "#                                task_prompt=task_prompt,\n",
    "#                                buffer=buffer)\n",
    "# print(meta_response)"
   ]
  },
  {
   "cell_type": "code",
   "execution_count": 14,
   "metadata": {},
   "outputs": [],
   "source": [
    "# # prompting a custom chat model\n",
    "# from scai.custom_chat_models.crfm import crfmChatLLM\n",
    "\n",
    "# CRFM_API_KEY = \"p4z0j9adj6edJOWBMnEqfPBZxAXlfOGd\"\n",
    "\n",
    "# chat_llm = crfmChatLLM(model_name=\"openai/gpt-4-0314\", \n",
    "#                    crfm_api_key=CRFM_API_KEY, \n",
    "#                    max_tokens=100, # need to be careful with this one\n",
    "#                    num_completions=1,\n",
    "#                    request_timeout=10,\n",
    "#                    verbose=False,\n",
    "#                    temperature=0.9,\n",
    "#                    )"
   ]
  }
 ],
 "metadata": {
  "kernelspec": {
   "display_name": "scai",
   "language": "python",
   "name": "python3"
  },
  "language_info": {
   "codemirror_mode": {
    "name": "ipython",
    "version": 3
   },
   "file_extension": ".py",
   "mimetype": "text/x-python",
   "name": "python",
   "nbconvert_exporter": "python",
   "pygments_lexer": "ipython3",
   "version": "3.10.0"
  },
  "orig_nbformat": 4
 },
 "nbformat": 4,
 "nbformat_minor": 2
}
