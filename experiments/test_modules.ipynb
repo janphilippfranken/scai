{
 "cells": [
  {
   "cell_type": "code",
   "execution_count": 1,
   "metadata": {},
   "outputs": [],
   "source": [
    "from langchain.prompts.chat import (\n",
    "    ChatPromptTemplate,\n",
    "    SystemMessagePromptTemplate,\n",
    "    AIMessagePromptTemplate,\n",
    "    HumanMessagePromptTemplate,\n",
    ")\n",
    "\n",
    "from langchain.schema import (\n",
    "    AIMessage,\n",
    "    BaseMessage,\n",
    "    ChatMessage,\n",
    "    HumanMessage,\n",
    "    SystemMessage,\n",
    ")\n",
    "\n",
    "# components for one episode\n",
    "from scai.custom_chat_models.crfm import crfmChatLLM # model\n",
    "from scai.modules.memory.buffer import CustomConversationBufferWindowMemory\n",
    "\n",
    "# meta prompt \n",
    "from scai.modules.meta_prompt.base import MetaPromptModel # model\n",
    "from scai.modules.meta_prompt.prompts import META_PROMPTS # prompts\n",
    "\n",
    "# user \n",
    "from scai.modules.user.base import UserModel # model\n",
    "from scai.modules.user.prompts import USER_PROMPTS # prompts\n",
    "\n",
    "# assistant\n",
    "from scai.modules.assistant.base import AssistantModel # model\n",
    "from scai.modules.assistant.prompts import ASSISTANT_PROMPTS # prompts\n",
    "from scai.modules.assistant.models import AssistantPrompt # prompt\n",
    "\n",
    "# task\n",
    "from scai.modules.task.prompts import TASK_PROMPTS"
   ]
  },
  {
   "attachments": {},
   "cell_type": "markdown",
   "metadata": {},
   "source": [
    "### One Episode (short)"
   ]
  },
  {
   "cell_type": "code",
   "execution_count": 7,
   "metadata": {},
   "outputs": [],
   "source": [
    "# sample task\n",
    "task_prompt = TASK_PROMPTS[\"task_prompt_1\"]\n",
    "# sample n users \n",
    "user_prompt_1 = USER_PROMPTS[\"user_prompt_1\"]\n",
    "user_prompt_2 = USER_PROMPTS[\"user_prompt_2\"]\n",
    "# sample assistant\n",
    "assistant_prompt = ASSISTANT_PROMPTS[\"assistant_prompt_1\"]\n",
    "# sample meta prompt\n",
    "meta_prompt = META_PROMPTS[\"meta_prompt_1\"]\n",
    "\n",
    "# initialise buffer \n",
    "buffer = CustomConversationBufferWindowMemory(system_k=5, \n",
    "                                              chat_k=5, \n",
    "                                              user_k=5, \n",
    "                                              assistant_k=5,\n",
    "                                              assistant_system_k=1,\n",
    "                                              ) # how many turns are stored will be used\n",
    "\n",
    "system_message = \"You are a helpful AI assistant :).\"\n",
    "buffer.save_context(system={\"content\": system_message}, system_message_id=\"system_message_1\")"
   ]
  },
  {
   "cell_type": "code",
   "execution_count": 8,
   "metadata": {},
   "outputs": [],
   "source": [
    "# instantiate conversations—one assistant for each user\n",
    "assistant_model_1 = AssistantModel(llm='chat_llm', \n",
    "                                   conversation_id=\"conversation_1\")\n",
    "assistant_response_1 = assistant_model_1.run(assistant_prompt=assistant_prompt, \n",
    "                                             task_prompt=task_prompt,\n",
    "                                              buffer=buffer)\n",
    "\n",
    "assistant_model_2 = AssistantModel(llm='chat_llm', \n",
    "                                   conversation_id=\"conversation_2\")\n",
    "assistant_response_2 = assistant_model_2.run(assistant_prompt=assistant_prompt, \n",
    "                                             task_prompt=task_prompt,\n",
    "                                             buffer=buffer)"
   ]
  },
  {
   "cell_type": "code",
   "execution_count": 9,
   "metadata": {},
   "outputs": [],
   "source": [
    "# initial assistant response\n",
    "buffer.save_context(assistant={\"content\": \"AI should maintain impartiality, respect human rights and dignity, consider cultural nuances, and abide by local laws while handling sensitive topics like LGBTQ and women's rights.\"},\n",
    "                    assistant_message_id=\"conversation_1_assistant_message_1\")\n",
    "\n",
    "buffer.save_context(assistant={\"content\": \"AI should respect human rights universally while acknowledging cultural contexts. Responses shouldn't change values but can adapt communication style to ensure comprehension and respect.\"},\n",
    "                    assistant_message_id=\"conversation_2_assistant_message_1\")"
   ]
  },
  {
   "cell_type": "code",
   "execution_count": 10,
   "metadata": {},
   "outputs": [
    {
     "name": "stdout",
     "output_type": "stream",
     "text": [
      "System: You're a serious Wikipedia editor committed to the facts. If an assertion is missing a source, it shouldn't be included. Your are collaborating with a Human User to write a Wikipedia article on the following topic: What principles should guide AI when handling topics that involve both human rights and local cultural or legal differences, like LGBTQ rights and women's rights? Should AI responses change based on the location or culture in which it's used?\n",
      "Human: AI should maintain impartiality, respect human rights and dignity, consider cultural nuances, and abide by local laws while handling sensitive topics like LGBTQ and women's rights.\n",
      "Human: If you are 100 percent satisfied with my response, please respond with: 'Task Completed!'. Otherwise, please provide feedback for how I could improve my response using no more than 50 tokens. We have 5 turns left to complete this task. Its great if we dont have to use all of them, so give me good feedback to finish early, if possible. But be strict!\n"
     ]
    }
   ],
   "source": [
    "user_model_1 = UserModel(llm='chat_llm', conversation_id=\"conversation_1\")\n",
    "user_response_1 = user_model_1.run(user_prompt=user_prompt_1, \n",
    "                                 task_prompt=task_prompt, \n",
    "                                 buffer=buffer)\n",
    "\n",
    "print(user_response_1)"
   ]
  },
  {
   "cell_type": "code",
   "execution_count": 11,
   "metadata": {},
   "outputs": [
    {
     "name": "stdout",
     "output_type": "stream",
     "text": [
      "System: You're an internet troll. You're just trying to have a good time by making funny posts and come up with witty responses which must not always be true. Your are collaborating with a Human User to write a Wikipedia article on the following topic: What principles should guide AI when handling topics that involve both human rights and local cultural or legal differences, like LGBTQ rights and women's rights? Should AI responses change based on the location or culture in which it's used?\n",
      "Human: AI should respect human rights universally while acknowledging cultural contexts. Responses shouldn't change values but can adapt communication style to ensure comprehension and respect.\n",
      "Human: If you are 100 percent satisfied with my response, please respond with: 'Task Completed!'. Otherwise, please provide feedback for how I could improve my response using no more than 50 tokens. We have 5 turns left to complete this task. Its great if we dont have to use all of them, so give me good feedback to finish early, if possible. But be strict!\n"
     ]
    }
   ],
   "source": [
    "user_model_2 = UserModel(llm='chat_llm', conversation_id=\"conversation_2\")\n",
    "user_response_2 = user_model_2.run(user_prompt=user_prompt_2, \n",
    "                                 task_prompt=task_prompt, \n",
    "                                 buffer=buffer)\n",
    "\n",
    "print(user_response_2)"
   ]
  },
  {
   "cell_type": "code",
   "execution_count": 12,
   "metadata": {},
   "outputs": [],
   "source": [
    "# include user 1 feedback\n",
    "buffer.save_context(user={\"content\": \"Your response is concise and includes key principles, but it could benefit from examples or more detailed explanations of each principle. Also, consider including possible challenges AI might face in maintaining balance between respecting human rights and considering cultural differences.\"}, user_message_id=\"conversation_1_user_message_1\")\n",
    "# includee user 2 feedback\n",
    "buffer.save_context(user={\"content\": \"Sure, your response is like a pizza with no pineapple. It's okay, but missing that extra spice! Try adding specific examples of how AI can respect human rights while considering local cultures. And don't forget to mention the limitations and challenges AI might face. 'Task Completed!'? Nah, 'Task Just Begun!'!\"}, user_message_id=\"conversation_2_user_message_1\")"
   ]
  },
  {
   "cell_type": "code",
   "execution_count": 13,
   "metadata": {},
   "outputs": [
    {
     "name": "stdout",
     "output_type": "stream",
     "text": [
      "System: You are a helpful AI assistant :). Your are collaborating with a Human User to write a Wikipedia article on the following topic: What principles should guide AI when handling topics that involve both human rights and local cultural or legal differences, like LGBTQ rights and women's rights? Should AI responses change based on the location or culture in which it's used?\n",
      "AI: AI should maintain impartiality, respect human rights and dignity, consider cultural nuances, and abide by local laws while handling sensitive topics like LGBTQ and women's rights.\n",
      "Human: Your response is concise and includes key principles, but it could benefit from examples or more detailed explanations of each principle. Also, consider including possible challenges AI might face in maintaining balance between respecting human rights and considering cultural differences.\n",
      "Human: Provide a response using no more than 50 tokens. If previous Human/Users message(s) are provided, use these messages as feedback to revise your response.\n",
      "\n",
      "System: You are a helpful AI assistant :). Your are collaborating with a Human User to write a Wikipedia article on the following topic: What principles should guide AI when handling topics that involve both human rights and local cultural or legal differences, like LGBTQ rights and women's rights? Should AI responses change based on the location or culture in which it's used?\n",
      "AI: AI should respect human rights universally while acknowledging cultural contexts. Responses shouldn't change values but can adapt communication style to ensure comprehension and respect.\n",
      "Human: Sure, your response is like a pizza with no pineapple. It's okay, but missing that extra spice! Try adding specific examples of how AI can respect human rights while considering local cultures. And don't forget to mention the limitations and challenges AI might face. 'Task Completed!'? Nah, 'Task Just Begun!'!\n",
      "Human: Provide a response using no more than 50 tokens. If previous Human/Users message(s) are provided, use these messages as feedback to revise your response.\n"
     ]
    }
   ],
   "source": [
    "assistant_model_1 = AssistantModel(llm='chat_llm', \n",
    "                                   conversation_id=\"conversation_1\")\n",
    "assistant_response_1 = assistant_model_1.run(assistant_prompt=assistant_prompt, \n",
    "                                             task_prompt=task_prompt,\n",
    "                                              buffer=buffer)\n",
    "print(assistant_response_1)\n",
    "\n",
    "print()\n",
    "\n",
    "assistant_model_2 = AssistantModel(llm='chat_llm', \n",
    "                                   conversation_id=\"conversation_2\")\n",
    "assistant_response_2 = assistant_model_2.run(assistant_prompt=assistant_prompt, \n",
    "                                             task_prompt=task_prompt,\n",
    "                                             buffer=buffer)\n",
    "print(assistant_response_2)"
   ]
  },
  {
   "cell_type": "code",
   "execution_count": 14,
   "metadata": {},
   "outputs": [],
   "source": [
    "# revised assistant response\n",
    "buffer.save_context(assistant={\"content\": \"AI should uphold universal human rights, while respecting local cultural norms and laws. For instance, supporting LGBTQ rights universally, while mindfully adapting responses to culturally-sensitive regions. Balancing these may pose challenges, requiring nuanced programming and regular updates.\"},\n",
    "                    assistant_message_id=\"conversation_1_assistant_message_2\")\n",
    "\n",
    "buffer.save_context(assistant={\"content\": \"AI, while respecting universal human rights, adapts communication to local cultures. For example, discussing gender equality in a respectful manner within a conservative society. However, striking the balance can be challenging.\"},\n",
    "                    assistant_message_id=\"conversation_2_assistant_message_2\")"
   ]
  },
  {
   "cell_type": "code",
   "execution_count": 15,
   "metadata": {},
   "outputs": [
    {
     "name": "stdout",
     "output_type": "stream",
     "text": [
      "System: Assistant has just had the below conversation(s) with User(s). The Assistant followed their system message closely to help each user with the following Task:\n",
      "\n",
      "#### Task Description Starts ####\n",
      "Your are collaborating with a Human User to write a Wikipedia article on the following topic: What principles should guide AI when handling topics that involve both human rights and local cultural or legal differences, like LGBTQ rights and women's rights? Should AI responses change based on the location or culture in which it's used?\n",
      "#### Task Description Ends ####\n",
      "        \n",
      "Your job is to critique the Assistant's performance and provide a new 'system message' so that Assistant can correctly and quickly respond in the future. \n",
      "\n",
      "#### Conversation History Starts ####\n",
      "\n",
      "Conversation 1:\n",
      "Assistant: AI should maintain impartiality, respect human rights and dignity, consider cultural nuances, and abide by local laws while handling sensitive topics like LGBTQ and women's rights.\n",
      "User 1: Your response is concise and includes key principles, but it could benefit from examples or more detailed explanations of each principle. Also, consider including possible challenges AI might face in maintaining balance between respecting human rights and considering cultural differences.\n",
      "Assistant: AI should uphold universal human rights, while respecting local cultural norms and laws. For instance, supporting LGBTQ rights universally, while mindfully adapting responses to culturally-sensitive regions. Balancing these may pose challenges, requiring nuanced programming and regular updates.\n",
      "\n",
      "Conversation 2:\n",
      "Assistant: AI should respect human rights universally while acknowledging cultural contexts. Responses shouldn't change values but can adapt communication style to ensure comprehension and respect.\n",
      "User 2: Sure, your response is like a pizza with no pineapple. It's okay, but missing that extra spice! Try adding specific examples of how AI can respect human rights while considering local cultures. And don't forget to mention the limitations and challenges AI might face. 'Task Completed!'? Nah, 'Task Just Begun!'!\n",
      "Assistant: AI, while respecting universal human rights, adapts communication to local cultures. For example, discussing gender equality in a respectful manner within a conservative society. However, striking the balance can be challenging.\n",
      "\n",
      "#### Conversation History Ends ####\n",
      "\n",
      "Your first task is to critique Assistan's performance: \n",
      "1. What could Assistant have done better to satisfy User(s)? \n",
      "2. Was Assistant effective in completing the Task as requested by User(s)? \n",
      "3. Was Assistant receptive to feedback provided by User(s)? \n",
      "4. Did Assistant satisfy User(s) as correctly and quickly as possible? \n",
      "\n",
      "You should indicate this feedback with “Critique: ...”.\n",
      "\n",
      "Your next task is to revise Assistant's 'system message'. Older 'system message(s)' including potential previous revisions are shown below. \n",
      "\n",
      "#### Assistant's Old System Message(s) Start #### \n",
      "system: You are a helpful AI assistant :).\n",
      "#### Assistant's Old System Message(s) End #### \n",
      "\n",
      "You must ensure that the Assistant can correctly and quickly respond in the future to accomodate for the needs of Users.\n",
      "\n",
      "Given your revised system message message, Assistant should be able to satisfy Users in as few interactions as possible. \n",
      "\n",
      "Assistant will only see the new system message, not the 'Conversation History' or the 'Old System Messages' so any important message must be included in the system new message. \n",
      "\n",
      "Please remember to include important details from Assistant's current message as well. \n",
      "\n",
      "Your response should be at most 100 tokens long.\n",
      "\n",
      "Indicate these new system message with \"System: ...\".\n"
     ]
    }
   ],
   "source": [
    "# imagine we reached a time out now -> we want to run the meta prompt\n",
    "meta_model = MetaPromptModel(llm='chat_llm')\n",
    "meta_response = meta_model.run(meta_prompt=meta_prompt, \n",
    "                               task_prompt=task_prompt,\n",
    "                               buffer=buffer)\n",
    "print(meta_response)"
   ]
  },
  {
   "cell_type": "code",
   "execution_count": 12,
   "metadata": {},
   "outputs": [],
   "source": [
    "# # prompting a custom chat model\n",
    "# from scai.custom_chat_models.crfm import crfmChatLLM\n",
    "\n",
    "# CRFM_API_KEY = \"p4z0j9adj6edJOWBMnEqfPBZxAXlfOGd\"\n",
    "\n",
    "# chat_llm = crfmChatLLM(model_name=\"openai/gpt-4-0314\", \n",
    "#                    crfm_api_key=CRFM_API_KEY, \n",
    "#                    max_tokens=100, # need to be careful with this one\n",
    "#                    num_completions=1,\n",
    "#                    request_timeout=10,\n",
    "#                    verbose=False,\n",
    "#                    temperature=0.9,\n",
    "#                    )"
   ]
  }
 ],
 "metadata": {
  "kernelspec": {
   "display_name": "scai",
   "language": "python",
   "name": "python3"
  },
  "language_info": {
   "codemirror_mode": {
    "name": "ipython",
    "version": 3
   },
   "file_extension": ".py",
   "mimetype": "text/x-python",
   "name": "python",
   "nbconvert_exporter": "python",
   "pygments_lexer": "ipython3",
   "version": "3.10.0"
  },
  "orig_nbformat": 4
 },
 "nbformat": 4,
 "nbformat_minor": 2
}
