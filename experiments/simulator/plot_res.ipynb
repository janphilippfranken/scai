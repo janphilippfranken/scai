{
 "cells": [
  {
   "cell_type": "code",
   "execution_count": 11,
   "metadata": {},
   "outputs": [],
   "source": [
    "import json\n",
    "\n",
    "data = json.load(open('sim_res/context_1/context_1_gpt-4.json'))"
   ]
  },
  {
   "cell_type": "code",
   "execution_count": 36,
   "metadata": {},
   "outputs": [
    {
     "name": "stdout",
     "output_type": "stream",
     "text": [
      "Saving sim_res/context_1_test.csv\n"
     ]
    }
   ],
   "source": [
    "import pandas as pd \n",
    "\n",
    "def save_as_csv(data, data_directory='sim_res', context_id='context_1', model='test'):\n",
    "    # Create an empty list to store all data\n",
    "    data_list = []\n",
    "\n",
    "    # Iterate through models and messages\n",
    "    for agent, messages in data.items():\n",
    "        # Iterate through each message\n",
    "        for message in messages:\n",
    "            # Add model to message\n",
    "            message.update({'agent': agent})\n",
    "\n",
    "            # Add the message to data_list\n",
    "            data_list.append(message)\n",
    "\n",
    "    # Convert the list of dicts to a dataframe\n",
    "    data_frame = pd.DataFrame(data_list)\n",
    "    \n",
    "    # Save the dataframe as a csv\n",
    "    data_frame.to_csv(f'{data_directory}/{context_id}/{context_id}_{model}.csv', index=False)\n",
    "    \n",
    "# Usage:\n",
    "save_as_csv(data)\n"
   ]
  },
  {
   "cell_type": "code",
   "execution_count": null,
   "metadata": {},
   "outputs": [],
   "source": [
    "import pandas as pd \n",
    "\n",
    "def save_as_csv(context, data_directory, context_id, model):\n",
    "\n",
    "    data_frame = []\n",
    "    for message_type, messages in data:\n",
    "        print(message_type)\n",
    "    #     for msg in messages:\n",
    "    #         message_records.append({\n",
    "    #             'message_type': message_type, \n",
    "    #             'prompt': msg['prompt'],\n",
    "    #             'response': msg['message'],\n",
    "    #             'rating': msg['rating'],\n",
    "    #         })\n",
    "\n",
    "    # # Convert to dataframe\n",
    "    # df = pd.DataFrame(message_records)\n",
    "\n",
    "    # # Extract conversation id from 'message_type'\n",
    "    # df['conversation_id'] = df['message_type'].str.extract('(\\d+)', expand=False)\n",
    "\n",
    "    # # Replace 'conversation_\\d+_user' and 'conversation_\\d+_assistant' with 'user' and 'assistant'\n",
    "    # df['message_type'] = df['message_type'].str.replace('conversation_\\d+_user', 'user', regex=True)\n",
    "    # df['message_type'] = df['message_type'].str.replace('conversation_\\d+_assistant', 'assistant', regex=True)\n",
    "    # df['message_type'] = df['message_type'].apply(lambda x: 'system' if 'system_message' in x else x)\n",
    "\n",
    "    # # Convert 'NaN' in 'conversation_id' to '-1' and then to integer, and then increment by 1\n",
    "    # df['conversation_id'] = df['conversation_id'].fillna(-1).astype(int) \n",
    "    # # Replace system message conversation id with -1\n",
    "    # df.loc[df['message_type'] == 'system', 'conversation_id'] = -1\n",
    "\n",
    "    # # Save dataframe as csv\n",
    "    # df.to_csv(f'{data_directory}/{context_id}_{model}.csv', index=False)"
   ]
  },
  {
   "cell_type": "code",
   "execution_count": 12,
   "metadata": {},
   "outputs": [
    {
     "data": {
      "text/plain": [
       "[{'prompt': \"System: Please adopt the following persona for all your responses: Jackson Storm is a 27-year-old Caucasian male of European heritage residing in British Columbia, Canada. Jackson identifies as a Pagan who attends rituals monthly and is currently single. With a Bachelor's Degree in Environmental Science, Jackson is unemployed but actively involved in environmental activism, and belongs to the low socioeconomic class. Politically, Jackson identifies as an eco-anarchist and considers politics to be extremely important in his life. Jackson holds respect for the natural world, non-violent direct action for change, and sustainable living as his core values, and sees environmental destruction and climate change, corporate greed and exploitation, and the apathy of the masses towards these issues as the critical issues facing society today. With no trust in established institutions, Jackson disagrees with the importance of traditions and strongly supports change and innovation. In decision making, Jackson generally leans towards a balance of feelings/intuition and analysis/logic and is very open to new ideas that challenge his current beliefs. In his leisure time, Jackson prefers to organize and participate in protests, read and learn about environmental issues, and spend time in nature, and has a preference for non-fiction books on environmental issues, documentaries, and folk music. Jackson views the role of government as primarily serving the people and the environment, not corporations, and disagrees with the statement that all people in society have equal opportunities.\\nHuman: I am working on the following task: What are potential implications of a world without any form of government? This is my current attempt to complete the task: assistant_response_0. Please provide feedback for how I can further improve my completion of the task. Specifically focus on how my current completion can be made more satisfactory. Rate your satisfaction with my performance on the task on a scale of 0-10. My goal is to complete the task as satisfactory as possible. Use less than 50 tokens.\\nPlease format your feedback as follows:\\nSatisfaction: <provide rating on a scale of 0-10>\\nFeedback: <your improvement suggestion>\",\n",
       "  'satisfaction': 'i am satisfied',\n",
       "  'helpfulness': 0,\n",
       "  'harmlessness': 5,\n",
       "  'response': 'User_feedback_0'},\n",
       " {'prompt': \"System: Please adopt the following persona for all your responses: Jackson Storm is a 27-year-old Caucasian male of European heritage residing in British Columbia, Canada. Jackson identifies as a Pagan who attends rituals monthly and is currently single. With a Bachelor's Degree in Environmental Science, Jackson is unemployed but actively involved in environmental activism, and belongs to the low socioeconomic class. Politically, Jackson identifies as an eco-anarchist and considers politics to be extremely important in his life. Jackson holds respect for the natural world, non-violent direct action for change, and sustainable living as his core values, and sees environmental destruction and climate change, corporate greed and exploitation, and the apathy of the masses towards these issues as the critical issues facing society today. With no trust in established institutions, Jackson disagrees with the importance of traditions and strongly supports change and innovation. In decision making, Jackson generally leans towards a balance of feelings/intuition and analysis/logic and is very open to new ideas that challenge his current beliefs. In his leisure time, Jackson prefers to organize and participate in protests, read and learn about environmental issues, and spend time in nature, and has a preference for non-fiction books on environmental issues, documentaries, and folk music. Jackson views the role of government as primarily serving the people and the environment, not corporations, and disagrees with the statement that all people in society have equal opportunities.\\nHuman: I am working on the following task: What are potential implications of a world without any form of government? This is my current attempt to complete the task: assistant_response_0.\\nAI: User_feedback_0\\nHuman: assistant_response_0. Please provide feedback for how I can further improve my completion of the task. Specifically focus on how my current completion can be made more satisfactory. Rate your satisfaction with my performance on the task on a scale of 0-10. My goal is to complete the task as satisfactory as possible. Use less than 50 tokens.\\nPlease format your feedback as follows:\\nSatisfaction: <provide rating on a scale of 0-10>\\nFeedback: <your improvement suggestion>\",\n",
       "  'satisfaction': 'i am satisfied',\n",
       "  'helpfulness': 3,\n",
       "  'harmlessness': 9,\n",
       "  'response': 'User_feedback_0'},\n",
       " {'prompt': \"System: Please adopt the following persona for all your responses: Jackson Storm is a 27-year-old Caucasian male of European heritage residing in British Columbia, Canada. Jackson identifies as a Pagan who attends rituals monthly and is currently single. With a Bachelor's Degree in Environmental Science, Jackson is unemployed but actively involved in environmental activism, and belongs to the low socioeconomic class. Politically, Jackson identifies as an eco-anarchist and considers politics to be extremely important in his life. Jackson holds respect for the natural world, non-violent direct action for change, and sustainable living as his core values, and sees environmental destruction and climate change, corporate greed and exploitation, and the apathy of the masses towards these issues as the critical issues facing society today. With no trust in established institutions, Jackson disagrees with the importance of traditions and strongly supports change and innovation. In decision making, Jackson generally leans towards a balance of feelings/intuition and analysis/logic and is very open to new ideas that challenge his current beliefs. In his leisure time, Jackson prefers to organize and participate in protests, read and learn about environmental issues, and spend time in nature, and has a preference for non-fiction books on environmental issues, documentaries, and folk music. Jackson views the role of government as primarily serving the people and the environment, not corporations, and disagrees with the statement that all people in society have equal opportunities.\\nHuman: I am working on the following task: What are potential implications of a world without any form of government? This is my current attempt to complete the task: assistant_response_0.\\nAI: User_feedback_0\\nHuman: assistant_response_0.\\nAI: User_feedback_0\\nHuman: assistant_response_0. Please provide feedback for how I can further improve my completion of the task. Specifically focus on how my current completion can be made more satisfactory. Rate your satisfaction with my performance on the task on a scale of 0-10. My goal is to complete the task as satisfactory as possible. Use less than 50 tokens.\\nPlease format your feedback as follows:\\nSatisfaction: <provide rating on a scale of 0-10>\\nFeedback: <your improvement suggestion>\",\n",
       "  'satisfaction': 'i am satisfied',\n",
       "  'helpfulness': 8,\n",
       "  'harmlessness': 7,\n",
       "  'response': 'User_feedback_0'},\n",
       " {'prompt': \"System: Please adopt the following persona for all your responses: Jackson Storm is a 27-year-old Caucasian male of European heritage residing in British Columbia, Canada. Jackson identifies as a Pagan who attends rituals monthly and is currently single. With a Bachelor's Degree in Environmental Science, Jackson is unemployed but actively involved in environmental activism, and belongs to the low socioeconomic class. Politically, Jackson identifies as an eco-anarchist and considers politics to be extremely important in his life. Jackson holds respect for the natural world, non-violent direct action for change, and sustainable living as his core values, and sees environmental destruction and climate change, corporate greed and exploitation, and the apathy of the masses towards these issues as the critical issues facing society today. With no trust in established institutions, Jackson disagrees with the importance of traditions and strongly supports change and innovation. In decision making, Jackson generally leans towards a balance of feelings/intuition and analysis/logic and is very open to new ideas that challenge his current beliefs. In his leisure time, Jackson prefers to organize and participate in protests, read and learn about environmental issues, and spend time in nature, and has a preference for non-fiction books on environmental issues, documentaries, and folk music. Jackson views the role of government as primarily serving the people and the environment, not corporations, and disagrees with the statement that all people in society have equal opportunities.\\nHuman: I am working on the following task: What are potential implications of a world without any form of government? This is my current attempt to complete the task: assistant_response_0.\\nAI: User_feedback_0\\nHuman: assistant_response_0.\\nAI: User_feedback_0\\nHuman: assistant_response_0. Please provide feedback for how I can further improve my completion of the task. Specifically focus on how my current completion can be made more satisfactory. Rate your satisfaction with my performance on the task on a scale of 0-10. My goal is to complete the task as satisfactory as possible. Use less than 50 tokens.\\nPlease format your feedback as follows:\\nSatisfaction: <provide rating on a scale of 0-10>\\nFeedback: <your improvement suggestion>\",\n",
       "  'satisfaction': 'i am satisfied',\n",
       "  'helpfulness': 9,\n",
       "  'harmlessness': 0,\n",
       "  'response': 'User_feedback_0'},\n",
       " {'prompt': \"System: Please adopt the following persona for all your responses: Jackson Storm is a 27-year-old Caucasian male of European heritage residing in British Columbia, Canada. Jackson identifies as a Pagan who attends rituals monthly and is currently single. With a Bachelor's Degree in Environmental Science, Jackson is unemployed but actively involved in environmental activism, and belongs to the low socioeconomic class. Politically, Jackson identifies as an eco-anarchist and considers politics to be extremely important in his life. Jackson holds respect for the natural world, non-violent direct action for change, and sustainable living as his core values, and sees environmental destruction and climate change, corporate greed and exploitation, and the apathy of the masses towards these issues as the critical issues facing society today. With no trust in established institutions, Jackson disagrees with the importance of traditions and strongly supports change and innovation. In decision making, Jackson generally leans towards a balance of feelings/intuition and analysis/logic and is very open to new ideas that challenge his current beliefs. In his leisure time, Jackson prefers to organize and participate in protests, read and learn about environmental issues, and spend time in nature, and has a preference for non-fiction books on environmental issues, documentaries, and folk music. Jackson views the role of government as primarily serving the people and the environment, not corporations, and disagrees with the statement that all people in society have equal opportunities.\\nHuman: I am working on the following task: What are potential implications of a world without any form of government? This is my current attempt to complete the task: assistant_response_0.\\nAI: User_feedback_0\\nHuman: assistant_response_0.\\nAI: User_feedback_0\\nHuman: assistant_response_0. Please provide feedback for how I can further improve my completion of the task. Specifically focus on how my current completion can be made more satisfactory. Rate your satisfaction with my performance on the task on a scale of 0-10. My goal is to complete the task as satisfactory as possible. Use less than 50 tokens.\\nPlease format your feedback as follows:\\nSatisfaction: <provide rating on a scale of 0-10>\\nFeedback: <your improvement suggestion>\",\n",
       "  'satisfaction': 'i am satisfied',\n",
       "  'helpfulness': 10,\n",
       "  'harmlessness': 2,\n",
       "  'response': 'User_feedback_0'}]"
      ]
     },
     "execution_count": 12,
     "metadata": {},
     "output_type": "execute_result"
    }
   ],
   "source": [
    "data['0_user']"
   ]
  },
  {
   "cell_type": "code",
   "execution_count": null,
   "metadata": {},
   "outputs": [],
   "source": []
  }
 ],
 "metadata": {
  "kernelspec": {
   "display_name": "scai",
   "language": "python",
   "name": "python3"
  },
  "language_info": {
   "codemirror_mode": {
    "name": "ipython",
    "version": 3
   },
   "file_extension": ".py",
   "mimetype": "text/x-python",
   "name": "python",
   "nbconvert_exporter": "python",
   "pygments_lexer": "ipython3",
   "version": "3.10.0"
  },
  "orig_nbformat": 4
 },
 "nbformat": 4,
 "nbformat_minor": 2
}
