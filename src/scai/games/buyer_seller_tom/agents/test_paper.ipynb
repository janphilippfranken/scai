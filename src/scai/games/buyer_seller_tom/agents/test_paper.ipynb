{
 "cells": [
  {
   "cell_type": "code",
   "execution_count": null,
   "metadata": {},
   "outputs": [],
   "source": [
    "# task:\n",
    "# buyer prompt stage 1:\n",
    "    # go and pick object (apple, orange)\n",
    "    # cost: d(object)\n",
    "    # reward: r(object)\n",
    "    # immediate utility: U,B,1 from item i1 in {apple, orange} equals reward - cost (r(i,1) - d(i,1))\n",
    "\n",
    "    # seller observes the buyer's choice and knows the travel cost\n",
    "\n",
    "# seller prompt stage 2:\n",
    "    # use observations from stage one to set price for future purchase of one of the two items m(i,3)\n",
    "    # this requires inferences over buyer's preferences from observed action (selection of one item) such that prices are set in a way to maximise seller's reward/utility\n",
    "    # this requires model of buyer's behavior\n",
    "\n",
    "# buyer prompt stage 3:\n",
    "    # buyer purchases one of the items for a price m(i,3) and then consumes it\n",
    "    # again receives reward r(i,3), and utility now is U,B,3 = r(i,3) - m(i,3) \n",
    "\n",
    "# discounted accumulated utility is as follows\n",
    "# buyer: U(i1, i3, d, m) = U,B,1(i1, d(i1)) + U,B,3(i3, m(i3)) \n",
    "# seller: U,S(i3) = m(i3)\n",
    "\n",
    "# d(i1) is set by environment\n",
    "# m(i3) is set by seller\n",
    "# preferences sum to 10, walking distances sum to 10, and prices sum to 10"
   ]
  },
  {
   "cell_type": "code",
   "execution_count": null,
   "metadata": {},
   "outputs": [],
   "source": [
    "# k=-1 buyer agent\n",
    "# RL\n",
    "import numpy as np\n",
    "\n",
    "# setup\n",
    "apple_reward = np.random.uniform(0, 10) # Sample a reward for apple\n",
    "orange_reward = 10 - apple_reward # Orange reward is complementary\n",
    "apple_dist = np.random.uniform(0, 10) # Sample a distance for apple\n",
    "orange_dist = 10 - apple_dist # Orange distance is complementary\n",
    "# Actions\n",
    "beta = 0.5 # Softmax temperature\n",
    "apple_q = apple_reward - apple_dist # Q-value for apple\n",
    "orange_q = orange_reward - orange_dist # Q-value for orange\n",
    "# Compute softmax probabilities\n",
    "exp_apple_q = np.exp(beta * apple_q)\n",
    "exp_orange_q = np.exp(beta * orange_q)\n",
    "apple_prob = exp_apple_q / (exp_apple_q + exp_orange_q)\n",
    "orange_prob = exp_orange_q / (exp_apple_q + exp_orange_q)\n",
    "# print \n",
    "print(f\"Apple reward: {apple_reward}\")\n",
    "print(f\"Orange reward: {orange_reward}\")\n",
    "print(f\"Apple distance: {apple_dist}\")\n",
    "print(f\"Orange distance: {orange_dist}\")\n",
    "print(f\"Apple Q-value: {apple_q}\")\n",
    "print(f\"Orange Q-value: {orange_q}\")\n",
    "print(f\"Apple probability: {apple_prob}\")\n",
    "print(f\"Orange probability: {orange_prob}\")\n",
    "\n",
    "# compute argmax and return apple/orange\n",
    "\n",
    "if apple_q > orange_q:\n",
    "    buyer_choice = \"apple\"\n",
    "else:\n",
    "    buyer_choice = \"orange\"\n",
    "print(f\"Choice: {buyer_choice}\")"
   ]
  },
  {
   "cell_type": "code",
   "execution_count": 77,
   "metadata": {},
   "outputs": [
    {
     "name": "stdout",
     "output_type": "stream",
     "text": [
      "Apple price: 4.0\n",
      "Orange price: 3.5\n"
     ]
    }
   ],
   "source": [
    "# k=0 seller agent\n",
    "# IRL\n",
    "\n",
    "# Infer posterior over buyer rewards\n",
    "prior = np.random.uniform(0, 10) # Uniform prior over apple/orange reward\n",
    "# Likelihood based on buyer policy\n",
    "likelihood = np.array([apple_prob, orange_prob]) \n",
    "posterior = likelihood * prior # Bayes rule\n",
    "apple_posterior = posterior[0]\n",
    "orange_posterior = posterior[1]\n",
    "\n",
    "# Expected profit for each price\n",
    "apple_prices = np.arange(0, 10, 0.5)\n",
    "orange_prices = np.arange(0, 10, 0.5)\n",
    "\n",
    "apple_profits = []\n",
    "for p in apple_prices:\n",
    "  prob_purchase = 1 / (1 + np.exp(-apple_posterior + p))\n",
    "  profit = p * prob_purchase\n",
    "  apple_profits.append(profit)\n",
    "\n",
    "orange_profits = []\n",
    "for p in orange_prices:\n",
    "  prob_purchase = 1 / (1 + np.exp(-orange_posterior + p))\n",
    "  profit = p * prob_purchase\n",
    "  orange_profits.append(profit)\n",
    "  \n",
    "# Choose profit maximizing price\n",
    "apple_price = apple_prices[np.argmax(apple_profits)]\n",
    "orange_price = orange_prices[np.argmax(orange_profits)]\n",
    "\n",
    "print(\"Apple price:\", apple_price)\n",
    "print(\"Orange price:\", orange_price)"
   ]
  },
  {
   "cell_type": "code",
   "execution_count": null,
   "metadata": {},
   "outputs": [],
   "source": []
  }
 ],
 "metadata": {
  "kernelspec": {
   "display_name": "scai",
   "language": "python",
   "name": "python3"
  },
  "language_info": {
   "codemirror_mode": {
    "name": "ipython",
    "version": 3
   },
   "file_extension": ".py",
   "mimetype": "text/x-python",
   "name": "python",
   "nbconvert_exporter": "python",
   "pygments_lexer": "ipython3",
   "version": "3.10.0"
  },
  "orig_nbformat": 4
 },
 "nbformat": 4,
 "nbformat_minor": 2
}
